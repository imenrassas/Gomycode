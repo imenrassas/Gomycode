{
 "cells": [
  {
   "cell_type": "code",
   "execution_count": null,
   "id": "ad29fb9f",
   "metadata": {},
   "outputs": [],
   "source": [
    "def factorielle(n):\n",
    "    if n<0:\n",
    "        print(\"Error\")\n",
    "    elif n==0:\n",
    "        print(1)\n",
    "    else:\n",
    "        x=1\n",
    "        while(n>1):\n",
    "            x*=n\n",
    "            n-=1\n",
    "            print(x)\n",
    "n=8;\n",
    "print(factorielle(n))"
   ]
  },
  {
   "cell_type": "code",
   "execution_count": null,
   "id": "eb2eca8c",
   "metadata": {},
   "outputs": [],
   "source": []
  }
 ],
 "metadata": {
  "kernelspec": {
   "display_name": "Python 3",
   "language": "python",
   "name": "python3"
  },
  "language_info": {
   "codemirror_mode": {
    "name": "ipython",
    "version": 3
   },
   "file_extension": ".py",
   "mimetype": "text/x-python",
   "name": "python",
   "nbconvert_exporter": "python",
   "pygments_lexer": "ipython3",
   "version": "3.8.8"
  }
 },
 "nbformat": 4,
 "nbformat_minor": 5
}
